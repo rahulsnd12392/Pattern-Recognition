{
  "nbformat": 4,
  "nbformat_minor": 0,
  "metadata": {
    "colab": {
      "name": "Problem_set_2_50379771.ipynb",
      "private_outputs": true,
      "provenance": [],
      "collapsed_sections": []
    },
    "kernelspec": {
      "name": "python3",
      "display_name": "Python 3"
    },
    "accelerator": "GPU"
  },
  "cells": [
    {
      "cell_type": "code",
      "metadata": {
        "id": "Fr8hikh12Q-B"
      },
      "source": [
        "from sklearn import svm\n",
        "from sklearn.model_selection import GridSearchCV\n",
        "from sklearn.metrics import confusion_matrix, accuracy_score\n",
        "from tensorflow import keras\n",
        "from keras.datasets import mnist\n",
        "%matplotlib inline"
      ],
      "execution_count": null,
      "outputs": []
    },
    {
      "cell_type": "code",
      "metadata": {
        "id": "Gjrh40Iu3BVB"
      },
      "source": [
        "\n",
        "\n",
        "(X_train, y_train),(X_test, y_test ) = mnist.load_data()\n",
        "X_train.shape, X_test.shape, y_train.shape, y_test.shape"
      ],
      "execution_count": null,
      "outputs": []
    },
    {
      "cell_type": "code",
      "metadata": {
        "id": "p74QIKzl9i8w"
      },
      "source": [
        "X_train = X_train.reshape(60000,784)\n",
        "X_test = X_test.reshape(10000,784)"
      ],
      "execution_count": null,
      "outputs": []
    },
    {
      "cell_type": "code",
      "metadata": {
        "id": "DFLgsbMEeVTy"
      },
      "source": [
        "X_train = X_train/255.0\n",
        "X_test = X_test/255.0"
      ],
      "execution_count": null,
      "outputs": []
    },
    {
      "cell_type": "code",
      "metadata": {
        "id": "sLAZ5i_p2-l8"
      },
      "source": [
        "classifier = svm.SVC()\n",
        "classifier.fit(X_train,y_train)"
      ],
      "execution_count": null,
      "outputs": []
    },
    {
      "cell_type": "code",
      "metadata": {
        "id": "LiI4fF0a2SHn"
      },
      "source": [
        "y_pred = classifier.predict(X_test)\n"
      ],
      "execution_count": null,
      "outputs": []
    },
    {
      "cell_type": "code",
      "metadata": {
        "id": "ifYHc6wC9C_y"
      },
      "source": [
        "print(confusion_matrix(y_test, y_pred))"
      ],
      "execution_count": null,
      "outputs": []
    },
    {
      "cell_type": "code",
      "metadata": {
        "id": "gbtjFQSu_Mfq"
      },
      "source": [
        "accuracy = accuracy_score(y_test,y_pred)\n",
        "accuracy"
      ],
      "execution_count": null,
      "outputs": []
    },
    {
      "cell_type": "code",
      "metadata": {
        "id": "6mpl0J2XnFvp"
      },
      "source": [
        "params_GS = {'kernel': ['linear'],\n",
        "              'C': [ 1, 10, 100,],  \n",
        "              'gamma': [1, 0.1, 0.01], \n",
        "              }  \n",
        "  \n",
        "GS = GridSearchCV(svm.SVC(), param_grid = params_GS, refit = True, verbose = 3, cv=3) \n",
        "   "
      ],
      "execution_count": null,
      "outputs": []
    },
    {
      "cell_type": "code",
      "metadata": {
        "id": "tObDNM_61ZTd"
      },
      "source": [
        "# fitting the model for grid search \n",
        "GS.fit(X_train, y_train)"
      ],
      "execution_count": null,
      "outputs": []
    },
    {
      "cell_type": "code",
      "metadata": {
        "id": "rLnCfRit3D5S"
      },
      "source": [
        "GS_predictions = GS.predict(X_test) \n"
      ],
      "execution_count": null,
      "outputs": []
    },
    {
      "cell_type": "code",
      "metadata": {
        "id": "ooyDCxu2DltP"
      },
      "source": [
        "accuracy_GS = accuracy_score(y_test, GS_predictions)\n",
        "accuracy_GS"
      ],
      "execution_count": null,
      "outputs": []
    },
    {
      "cell_type": "markdown",
      "metadata": {
        "id": "BhhETbFi7LWc"
      },
      "source": [
        "After applying the GridSearch CV the accuracy of the SVM decreases. Other combination of parameters might generate more accuracy."
      ]
    },
    {
      "cell_type": "markdown",
      "metadata": {
        "id": "AMiUT_8s7HZH"
      },
      "source": [
        ""
      ]
    },
    {
      "cell_type": "markdown",
      "metadata": {
        "id": "_K31CL_hOk3e"
      },
      "source": [
        "## Problem 2"
      ]
    },
    {
      "cell_type": "markdown",
      "metadata": {
        "id": "ET9AkJMdJTO8"
      },
      "source": [
        "To find separating vector $\\underset{w}{\\rightarrow}$ to achieve maximal separating margin minimize\n",
        "</br>\n",
        "$\\underset{w}{\\rightarrow}\\frac{\\underset{W}{\\rightarrow}^{T}\\underset{W}{\\rightarrow}}{2}$ subject to $ y_{i}\\cdot \\underset{w}{\\rightarrow}^{T}\\underset{x_{i}}{\\rightarrow}\\geq 1 $ , for i = 1, ... , l\n",
        "</br>\n",
        "\n",
        "The margin is $ \\gamma = \\frac{1}{\\sqrt{w^{t}w}}$\n",
        "\n",
        "</br>\n",
        "Lagrange function can be given as \n",
        "\n",
        "$ L = \\frac{\\underset{w}{\\rightarrow}^{T}\\underset{w}{\\rightarrow}}{2}+\\sum a_{i}\\left ( 1-y_{i}\\cdot w^{T} x_{i}\\right )$\n",
        "\n",
        "</br>\n",
        "\n",
        "Lagrange multipliers :\n",
        "${a_{i}\\geq 0}$\n",
        "\n",
        "</br>\n",
        "\n",
        "Claim:\n",
        "\n",
        "$\\underbrace{\\underset{a}{max}\\underset{w}{min}}L\\leq \\underbrace{\\underset{w}{min}\\underset{a}{max}}L$\n",
        "\n",
        "dual solution   primal solution\n",
        "\n",
        "</br>\n",
        "\n",
        "### Dual Problem ###\n",
        "\n",
        "$ L = \\frac{\\underset{w}{\\rightarrow}^{T}\\underset{w}{\\rightarrow}}{2}+\\sum a_{i}\\left ( 1-y_{i}\\cdot w^{T} x_{i}\\right )$\n",
        "</br>\n",
        "\n",
        "####Set partial derivative of Lagrange function oven primal variable to 0  ####\n",
        "\n",
        "$\\partial _{w}L= w -\\sum_{i}a_{i}y_{i}x_{i}^{\\rightarrow }= 0\\Rightarrow w= \\sum_{i}a_{i}y_{i}x_{i}^{\\rightarrow }$\n",
        "</br>\n",
        "\n",
        "####Second order partial derivative ####\n",
        "\n",
        "$\\partial _{w}L=1>0 : w =\\sum_{i}a_{i}y_{i}x_{i}^{\\rightarrow }$\n",
        "\n",
        "\n",
        "####Substituting #### \n",
        "$w =\\sum_{i}a_{i}y_{i}x_{i}^{\\rightarrow }$\n",
        "\n",
        "into Lagrange funtion , we get the dual problem of maxizing\n",
        "\n",
        "$ L = \\frac{\\underset{w}{\\rightarrow}^{T}\\underset{w}{\\rightarrow}}{2}+\\sum a_{i}\\left ( 1-y_{i}\\cdot w^{T} x_{i}\\right )$\n",
        "\n",
        "$ L = \\frac{1}{2}w^{T}+\\sum_{i} a_{i}y_{i}x_{i}^{\\rightarrow } +\\sum_{i} - w^{T}\\sum_{i}a_{i}y_{i}x_{i}^{\\rightarrow }$\n",
        "\n",
        "$= \\sum_{i}a_{i}\\frac{1}{2}w^{T}\\sum_{i}a_{i}y_{i}x_{i}^{\\rightarrow }$\n",
        "\n",
        "$=\\sum_{i}a_{i}-\\frac{1}{2}\\sum_{ij}a_{i}a_{j}y_{i}y_{i}x_{i}^{\\rightarrow }x_{j}$\n",
        "\n",
        "\n",
        "\n"
      ]
    },
    {
      "cell_type": "markdown",
      "metadata": {
        "id": "PZt16r5lumX-"
      },
      "source": [
        "####Benifits of maximizing the margin####\n",
        "\n",
        "Since SVM supports kernel, it is easy to determine non-leanear relationships in output and input data. Moreover, creating a model with high margin, helps to reguralize the residing w while training, ultimatily performing better at prediction and prevents overfitting, with the inbuilt cross-validation feature.In addition to that fluctuation in data can be handled effectively if me maximize the margin in SVM."
      ]
    },
    {
      "cell_type": "markdown",
      "metadata": {
        "id": "r_9v6YXfwbAe"
      },
      "source": [
        "###Benifits of solving the dual problem over Primal problem ###\n",
        "\n",
        "In dual problem number of dimentions are equal to the number of datapoints.In addition to that, dual problem is more efficient than primal problem when data points are less than the dimensions, regardless of increased data points.Moreover, the main benifit of using dual problem over primal problem is, we can apply kernel in the model.\n"
      ]
    },
    {
      "cell_type": "code",
      "metadata": {
        "id": "cEmOW_7cq-EP"
      },
      "source": [
        ""
      ],
      "execution_count": null,
      "outputs": []
    }
  ]
}